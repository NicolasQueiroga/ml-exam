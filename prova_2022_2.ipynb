{
 "cells": [
  {
   "cell_type": "markdown",
   "id": "899246d2",
   "metadata": {},
   "source": [
    "## Machine Learning - Prova\n",
    "\n",
    "**Nome do aluno**: <font color='red'>Nicolas Maciel Queiroga</font>\n",
    "\n",
    "Esta prova consiste em uma parte conceitual e uma parte prática.\n",
    "\n",
    "Você deve submeter o trabalho via Blackboard. É de sua responsabilidade garantir que o arquivo correto foi enviado.\n",
    "\n",
    "Se você precisou adicionar arquivos extras à essa prova, assegure-se de que você os está enviando também.\n",
    "\n",
    "A prova é individual e com consulta. Faça o seu trabalho de maneira ética!"
   ]
  },
  {
   "cell_type": "markdown",
   "id": "8cc498c4",
   "metadata": {},
   "source": [
    "---\n",
    "## Parte conceitual (4 pts)"
   ]
  },
  {
   "cell_type": "markdown",
   "id": "8e222c4b",
   "metadata": {},
   "source": [
    "Vemos abaixo uma seleção de tópicos em Machine Learning e uma seleção de interlocutores. Escolha 2 tópicos, 2 interlocutores, e a associação 1-para-1 entre tópicos e interlocutores. Explique os tópicos escolhidos para os interlocutores correspondentes.\n",
    "\n",
    "Interlocutores:\n",
    "\n",
    "- O Marcos Lisboa\n",
    "    - Economista, conhece muito bem estatística, interessado pelos problemas economicos do Brasil.\n",
    "- Um aluno de colegial prestes a se formar\n",
    "    - Tem alguma noção de matemática, geometria, estatística, mas muito simples.\n",
    "- Um entrevistador de emprego de uma empresa renomada (e.g. FAANG)\n",
    "    - É um engenheiro experiente, e sabe bem os conceitos todos, mas quer saber se você sabe explicar de modo coerente, enxuto e completo. Sem encher linguiça.\n",
    "- Um professor de Matemática da Variação\n",
    "    - Domina cálculo multivariado, estatística, programação. Quer conhecer mais a fundo o assunto que você vai explicar, e a conexão com a disciplina dele.\n",
    "- Um professor de GDE\n",
    "    - Entende matemática e estatística de colegial e um pouco de Cálculo. Interessado em problemas da sociedade.\n",
    "- Um médico oncologista\n",
    "    - Conhece estatística surpreendemente bem, interessado em problemas de Medicina.\n",
    "\n",
    "    \n",
    "Tópicos:\n",
    "\n",
    "- Árvore de decisão\n",
    "- Machine Learning e sociedade\n",
    "- Regressão linear\n",
    "- Validação cruzada para ajuste de hiperparâmetros\n",
    "- Support vector machines\n",
    "- Curva ROC\n",
    "- Gradient descent\n",
    "- Sub-ajuste (underfitting) e sobreajuste (overfitting)\n",
    "- Precision versus recall\n",
    "- Seleção de variáveis com Lasso\n",
    "\n",
    "Use gráficos, tabelas, formulas, código, o que você quiser para auxiliar na sua explicação. Use quantas células quiser do notebook. Se precisar adicionar um diagrama ilustrativo, pode usar o https://www.draw.io/. Exporte seu desenho para PNG e inclua no notebook com o código-exemplo desta célula:\n",
    "\n",
    "![exemplo](exemplo.png \"Exemplo de diagrama PNG\")\n",
    "\n",
    "Neste caso, <font color='red'>não se esqueça de submeter também seu arquivo de imagem!</font>\n",
    "\n",
    "Rubrica de avaliação por par conceito-interlocutor:\n",
    "\n",
    "\n",
    "| Conceito | Nota | Definição |\n",
    "|----------|------|-----------|\n",
    "| I        | 0.0  | Não fez, ou escreveu coisas sem sentido. |\n",
    "| D        | 0.5  | Usou termos técnicos e matemática não disponível ao interlocutor. Faltam partes fundamentais do conceito. Não construiu uma narrativa de interesse ao interlocutor. |\n",
    "| C        | 1.0  | Construiu uma explicação correta da mecânica do conceito, sem uma intuição de por que funciona. Faltam ideias importantes, mas não essenciais do conceito. Não construiu uma narrativa de interesse ao interlocutor. |\n",
    "| B        | 1.5  | Construiu uma explicação da mecânica e da intuição por trás do modelo. Faltam ideias importantes, mas não essenciais do conceito, ou tem excesso de ideias não tão centrais à explicação (vulgo “encheu linguiça”). |\n",
    "| A        | 2.0  | Construiu uma explicação bem completa e enxuta da mecânica e da intuição por trás do conceito. Trouxe uma narrativa que interesse ao interlocutor. |"
   ]
  },
  {
   "cell_type": "markdown",
   "id": "9cbf8680",
   "metadata": {},
   "source": [
    "### Respostas"
   ]
  },
  {
   "cell_type": "markdown",
   "id": "c5e0a291",
   "metadata": {},
   "source": [
    "---\n",
    "Tópico: <font color=red>Sub-ajuste (underfitting) e sobreajuste (overfitting)</font>\n",
    "\n",
    "Interlocutor: <font color=red>Um entrevistador de emprego de uma empresa renomada (e.g. FAANG)</font>\n"
   ]
  },
  {
   "cell_type": "markdown",
   "id": "0b18b37a",
   "metadata": {},
   "source": [
    "Resposta:\n",
    "\n",
    "<style>\n",
    "    .concept-box {\n",
    "        max-width: 1000px;\n",
    "        padding: 10px;\n",
    "        margin: 10px;\n",
    "        border: 1px solid #ccc;\n",
    "        border-radius: 5px;\n",
    "    }\n",
    "    .concept-title {\n",
    "        font-weight: bold;\n",
    "        font-size: 1.2em;\n",
    "    }\n",
    "    .concept {\n",
    "        margin: 10px;\n",
    "    }\n",
    "    .analogy-box {\n",
    "        max-width: 1000px;\n",
    "        padding: 10px;\n",
    "        margin: 10px;\n",
    "        border: 1px solid #ccc;\n",
    "        border-radius: 5px;\n",
    "    }\n",
    "    .analogy-title {\n",
    "        font-weight: bold;\n",
    "        font-size: 1.2em;\n",
    "    }\n",
    "    .analogy {\n",
    "        margin: 10px;\n",
    "    }\n",
    "    .image-box {\n",
    "        max-width: 1000px;\n",
    "        padding: 10px;\n",
    "        margin: 10px;\n",
    "        border: 1px solid #ccc;\n",
    "        border-radius: 5px;\n",
    "    }\n",
    "    img {\n",
    "        max-width: 100%;\n",
    "    }\n",
    "</style>\n",
    "\n",
    "<body>\n",
    "    <head>\n",
    "    </head>\n",
    "    <div class='concept-box'>\n",
    "        <h2 class='concept-title'>Sub-ajuste (underfitting) e sobreajuste (overfitting)</h2>\n",
    "        <p class='concept'>\n",
    "            O underfitting é quando o modelo não consegue capturar a relação entre as variáveis, ou seja, não consegue generalizar o problema. Por exemplo, se o modelo for de regressão linear, ele não consegue capturar a relação entre as variáveis, e não consegue prever o valor de uma variável a partir de outra. O overfitting é quando o modelo consegue capturar a relação entre as variáveis, mas não consegue generalizar o problema. Por exemplo, se o modelo for de regressão linear, ele consegue capturar a relação entre as variáveis, mas não consegue prever o valor de uma variável a partir de outra, pois o modelo está muito ajustado aos dados de treino, e não consegue generalizar o problema.\n",
    "        </p>\n",
    "    </div>\n",
    "    <div class='analogy-box'>\n",
    "        <h2 class='analogy-title'>Situação contextual para um entrevistador de emprego de uma empresa renomada (e.g. FAANG)</h2>\n",
    "        <p class='analogy'>\n",
    "            Suponha a seguinte situação: O entrevistador Toshi, um engenheiro renomado da Apple está iniciando uma entrevista com um candidato à vaga de Software Engineer, e ao investigar um pouco mais sobre seu preparo, percebe que ele possui um grande repertório de resolução de problemas que são usualmente conhecidos quando se trata de entrevistas de empregos de grandes empresas. A partir desse ponto, Toshi se encontra com três opções de perguntas que pode fazer ao candidato:\n",
    "        </p>\n",
    "        <ol> \n",
    "            <li>A primeira opção é realizar uma pergunta normal, ou seja, que necessite apenas dos conceitos básicos, porém que sejam aplicados de um jeito não tão trivial.</li>\n",
    "            <li>A segunda seria aplicar uma pergunta um pouco mais completa, e que seja uma pergunta inédita para o candidato, cobrando conhecimentos tanto práticos quanto teóricos e complexos.</li>\n",
    "            <li>Já a terceira seria uma pergunta extremamente símples, e que o candidato com certeza já teria visto.</li>\n",
    "        </ol>\n",
    "        <p class='analogy'>\n",
    "            Toshi, ao analisar as três opções e tentar fazer um bom \"match\" com o candidato, percebe que o candidato provavelmente está acostumado com os exercícios de treino, mas sem perceber a teoria que está por trás deles (um caso clássico de overfitting de dados). Percebe então que não seria uma boa ideia fazer a terceira pergunta, por ela ser extremamente simples e por achar que o candidato realmente não possui os conhecimentos necessários para ocupar o cargo de Software Engineer. A segunda opção até seria uma boa ideia, porém como Toshi quer, além de aplicar um processo realmente seletivo e que ainda dê un feedback ao candidato, achou melhor aplicar a primeira pergunta, que é realivamente simples, porém não estava dentre as perguntas que o candidato utilizou para se treinar. Fazendo isso, provavelmente o candidato não conseguirá responder a pergunta, e Toshi poderá dar um feedback ao candidato de como ele se acostumou com as perguntas e acabou não se importando com a teoria por trás delas, e ainda poderá avaliar se o candidato possui a capacidade de aprender e se adaptar a novas situações.\n",
    "        </p>\n",
    "    </div>\n",
    "    <div class='image-box'>\n",
    "        <img src='overfitting_2.png' alt='overfitting e underfitting' title='Exemplo de overfitting e underfitting' />\n",
    "        <img src='overfitting_1.jpg' alt='overfitting e underfitting' title='Exemplo de diagrama para overfitting e underfitting' />\n",
    "    </div>\n",
    "</body>"
   ]
  },
  {
   "cell_type": "markdown",
   "id": "94a4ca45",
   "metadata": {},
   "source": [
    "---\n",
    "Tópico: <font color=red>Regressão linear</font>\n",
    "\n",
    "Interlocutor: <font color=red>Um professor de Matemática da Variação</font>\n"
   ]
  },
  {
   "cell_type": "markdown",
   "id": "09779681",
   "metadata": {},
   "source": [
    "Resposta:\n",
    "\n",
    "\n",
    "<style>\n",
    "    .concept-box {\n",
    "        max-width: 1000px;\n",
    "        padding: 10px;\n",
    "        margin: 10px;\n",
    "        border: 1px solid #ccc;\n",
    "        border-radius: 5px;\n",
    "    }\n",
    "    .concept-title {\n",
    "        font-weight: bold;\n",
    "        font-size: 1.2em;\n",
    "    }\n",
    "    .concept {\n",
    "        margin: 10px;\n",
    "    }\n",
    "    .analogy-box {\n",
    "        max-width: 1000px;\n",
    "        padding: 10px;\n",
    "        margin: 10px;\n",
    "        border: 1px solid #ccc;\n",
    "        border-radius: 5px;\n",
    "    }\n",
    "    .analogy-title {\n",
    "        font-weight: bold;\n",
    "        font-size: 1.2em;\n",
    "    }\n",
    "    .analogy {\n",
    "        margin: 10px;\n",
    "    }\n",
    "    .analogy-table {\n",
    "        margin: 10px;\n",
    "        border: 1px solid #ccc;\n",
    "        border-radius: 5px;\n",
    "        margin-left: auto;\n",
    "        margin-right: auto;\n",
    "    }\n",
    "    .lin-regression-img {\n",
    "        height: 450px;\n",
    "        width: 50%;\n",
    "        height: auto;\n",
    "        display: block;\n",
    "        margin-left: auto;\n",
    "        margin-right: auto;\n",
    "        padding: 10px;\n",
    "    }\n",
    "    .plot {\n",
    "        height: 450px;\n",
    "        width: 50%;\n",
    "        height: auto;\n",
    "        display: block;\n",
    "        margin-left: auto;\n",
    "        margin-right: auto;\n",
    "        padding: 10px;\n",
    "    }\n",
    "    img {\n",
    "        max-width: 100%;\n",
    "    }\n",
    "</style>\n",
    "\n",
    "\n",
    "<body>\n",
    "    <head>\n",
    "    </head>\n",
    "    <div class='concept-box'>\n",
    "        <h2 class='concept-title'>Regressão Linear</h2>\n",
    "        <p class='concept'>\n",
    "            A regressão linear é um modelo de regressão que tenta capturar a relação entre duas variáveis. Por exemplo, se quisermos prever a nota de um aluno a partir do número de horas que ele estuda, podemos usar a regressão linear para capturar essa relação. O modelo de regressão linear é dado pela formula representada na imagem abaixo:\n",
    "        </p>\n",
    "        <img class='lin-regression-img' src='lin_regression.png' alt='Regressão linear' title='Regressão linear' />\n",
    "        <p>\n",
    "            O objetivo do modelo é encontrar os valores de <bold>beta 0</bold> e <bold>beta 1</bold> que minimizam a soma dos quadrados dos resíduos, ou seja, que minimizam a distância entre os pontos e a reta. O modelo de regressão linear é um modelo linear, ou seja, a relação entre as variáveis é linear. Por exemplo, se quisermos prever a nota de um aluno a partir do número de horas que ele estuda, podemos usar a regressão linear para capturar essa relação.\n",
    "        </p>\n",
    "    </div>\n",
    "    <div class='analogy-box'>\n",
    "        <h2 class='analogy-title'>Situação contextual para um professor de Matemática da Variação</h2>\n",
    "        <p class='analogy'>\n",
    "            Imagine a seguinte situação: O professor Leonidas, de MatVar, quer fazer uma função, a qual, dada a quantidade de exercícios resolvidos por um(a) aluno(a) das várias listas de exercícios disponibilizadas pelo semestre, é possível determinar sua média final na disciplina. Como o profo Leonidas, já dá aulas há muitos semestres, pode coletar os seguintes dados:\n",
    "        </p>\n",
    "        <table class='analogy-table'>\n",
    "            <tr>\n",
    "                <th>Aluno</th>\n",
    "                <th>Número de exercícios resolvidos</th>\n",
    "                <th>Média final</th>\n",
    "            </tr>\n",
    "            <tr>\n",
    "                <td>João André</td>\n",
    "                <td>54</td>\n",
    "                <td>7.5</td>\n",
    "            </tr>\n",
    "            <tr>\n",
    "                <td>Antônio</td>\n",
    "                <td>123</td>\n",
    "                <td>8.5</td>\n",
    "            </tr>\n",
    "            <tr>\n",
    "                <td>Rafaela</td>\n",
    "                <td>5</td>\n",
    "                <td>2.0</td>\n",
    "            </tr>\n",
    "            <tr>\n",
    "                <td>Lara</td>\n",
    "                <td>203</td>\n",
    "                <td>9.8</td>\n",
    "            </tr>\n",
    "            <tr>\n",
    "                <td>Liz</td>\n",
    "                <td>97</td>\n",
    "                <td>8.0</td>\n",
    "            </tr>\n",
    "        </table>\n",
    "        <p>\n",
    "            A partir desses dados, seria interessante observar como eles são dispostos em um gráfico, como um scatter plot onde o eixo <bold>x</bold> representa a quantidade de exercícios feitos, e o eixo <bold>y</bold> representa a média final do(a) aluno(a), por exemplo:\n",
    "        </p>\n",
    "        <img class='plot' src='plot_2.png' alt='Scatter Plot' title='Scatter Plot' />\n",
    "        <p>\n",
    "            É possível perceber que existe uma relação linear positiva entre o número de exercícios resolvidos e a média final. Ou seja, quanto mais exercícios um aluno resolve, maior é a sua média final, e então conseguimos relacionar a variável dependente do modelo de regressão linear à média final e a variável independente à quantidade de exercícios resolvidos. A partir dessa relação, o professor Leonidas pode criar um modelo de regressão linear para prever a média final de um aluno a partir do número de exercícios resolvidos, como mostra a imagem abaixo:\n",
    "        </p>\n",
    "        <img class='plot' src='plot_1.png' alt='Linear Regression' title='Linear Regression' />\n",
    "</body>"
   ]
  },
  {
   "cell_type": "markdown",
   "id": "29605f34",
   "metadata": {},
   "source": [
    "---\n",
    "## Parte prática (6 pts)\n",
    "\n"
   ]
  },
  {
   "cell_type": "markdown",
   "id": "fb54a31b",
   "metadata": {},
   "source": [
    "O arquivo `zoo.csv` contém informações sobre animais, conforme descrito abaixo:"
   ]
  },
  {
   "cell_type": "markdown",
   "id": "a6c872a5",
   "metadata": {},
   "source": [
    "1. Title: Zoo database\n",
    "\n",
    "2. Source Information\n",
    "   -- Creator: Richard Forsyth\n",
    "   -- Donor: Richard S. Forsyth \n",
    "             8 Grosvenor Avenue\n",
    "             Mapperley Park\n",
    "             Nottingham NG3 5DX\n",
    "             0602-621676\n",
    "   -- Date: 5/15/1990\n",
    " \n",
    "3. Past Usage:\n",
    "   -- None known other than what is shown in Forsyth's PC/BEAGLE User's Guide.\n",
    "\n",
    "4. Relevant Information:\n",
    "   -- A simple database containing 17 Boolean-valued attributes.  The \"type\"\n",
    "      attribute appears to be the class attribute.  Here is a breakdown of\n",
    "      which animals are in which type: (I find it unusual that there are\n",
    "      2 instances of \"frog\" and one of \"girl\"!)\n",
    "\n",
    "      Class# Set of animals:\n",
    "      ====== ===============================================================\n",
    "           1 (41) aardvark, antelope, bear, boar, buffalo, calf,\n",
    "                  cavy, cheetah, deer, dolphin, elephant,\n",
    "                  fruitbat, giraffe, girl, goat, gorilla, hamster,\n",
    "                  hare, leopard, lion, lynx, mink, mole, mongoose,\n",
    "                  opossum, oryx, platypus, polecat, pony,\n",
    "                  porpoise, puma, pussycat, raccoon, reindeer,\n",
    "                  seal, sealion, squirrel, vampire, vole, wallaby,wolf\n",
    "           2 (20) chicken, crow, dove, duck, flamingo, gull, hawk,\n",
    "                  kiwi, lark, ostrich, parakeet, penguin, pheasant,\n",
    "                  rhea, skimmer, skua, sparrow, swan, vulture, wren\n",
    "           3 (5)  pitviper, seasnake, slowworm, tortoise, tuatara \n",
    "           4 (13) bass, carp, catfish, chub, dogfish, haddock,\n",
    "                  herring, pike, piranha, seahorse, sole, stingray, tuna\n",
    "           5 (4)  frog, frog, newt, toad \n",
    "           6 (8)  flea, gnat, honeybee, housefly, ladybird, moth, termite, wasp\n",
    "           7 (10) clam, crab, crayfish, lobster, octopus,\n",
    "                  scorpion, seawasp, slug, starfish, worm\n",
    "\n",
    "5. Number of Instances: 101\n",
    "\n",
    "6. Number of Attributes: 18 (animal name, 15 Boolean attributes, 2 numerics)\n",
    "\n",
    "7. Attribute Information: (name of attribute and type of value domain)\n",
    "   1. animal name:      Unique for each instance\n",
    "   2. hair\t\tBoolean\n",
    "   3. feathers\t\tBoolean\n",
    "   4. eggs\t\tBoolean\n",
    "   5. milk\t\tBoolean\n",
    "   6. airborne\t\tBoolean\n",
    "   7. aquatic\t\tBoolean\n",
    "   8. predator\t\tBoolean\n",
    "   9. toothed\t\tBoolean\n",
    "  10. backbone\t\tBoolean\n",
    "  11. breathes\t\tBoolean\n",
    "  12. venomous\t\tBoolean\n",
    "  13. fins\t\tBoolean\n",
    "  14. legs\t\tNumeric (set of values: {0,2,4,5,6,8})\n",
    "  15. tail\t\tBoolean\n",
    "  16. domestic\t\tBoolean\n",
    "  17. catsize\t\tBoolean\n",
    "  18. type\t\tNumeric (integer values in range [1,7])\n",
    "\n",
    "8. Missing Attribute Values: Some values are missing!\n",
    "\n",
    "9. Class Distribution: Given above"
   ]
  },
  {
   "cell_type": "markdown",
   "id": "9bdcf34d",
   "metadata": {},
   "source": [
    "Sua tarefa é construir um modelo que prevê o tipo de animal (coluna `type`) baseado nos demais atributos, e com base nesse modelo determinar a ordem de relevancia dos atributos para identificar o tipo de animal.\n",
    "\n",
    "Tendo identificado a ordem de relevancia dos atributos, determine o conjunto minimo de atributos mais relevantes que permita que o modelo tenha um desempenho de $90\\%$ ou mais do desempenho obtido com o conjunto completo de atributos. Por exemplo, se a acurácia do modelo com o conjunto completo de atributos foi de $95\\%$, determine o conjunto mínimo de atributos que atinja $0.9 \\times 0.95 = 0.855 = 85.5\\%$ de acurácia."
   ]
  },
  {
   "cell_type": "markdown",
   "id": "5d9914ac",
   "metadata": {},
   "source": [
    "Rubrica de avaliação:\n",
    "\n",
    "I - Código não roda, ou roda mas é nonsense, e não tem análises que façam sentido.\n",
    "\n",
    "D - A análise não está completa, ou o código está bagunçado, mas pelo menos não é nonsense.\n",
    "\n",
    "C - Conseguiu fazer o modelo preditivo com o preprocessamento adequado\n",
    "\n",
    "B - Conseguiu determinar a importancia das features e determinar o conjunto minimo pedido\n",
    "\n",
    "A - Construiu um preprocessamento sofisticado - explorou a documentação do scikit-learn para encontrar alternativas aos métodos simples descritos em aula. Escolheu features que fazem sentido para o modelo inicial. Obteve conclusões fundamentadas em experimentação."
   ]
  },
  {
   "cell_type": "markdown",
   "id": "c0a812f1",
   "metadata": {},
   "source": [
    "___\n",
    "## Importando Bibliotecas"
   ]
  },
  {
   "cell_type": "code",
   "execution_count": 1,
   "id": "3bd006cb",
   "metadata": {},
   "outputs": [],
   "source": [
    "import warnings\n",
    "warnings.filterwarnings('ignore')"
   ]
  },
  {
   "cell_type": "code",
   "execution_count": 2,
   "id": "8cda0afa",
   "metadata": {},
   "outputs": [],
   "source": [
    "import matplotlib.pyplot as plt\n",
    "import numpy as np\n",
    "import pandas as pd\n",
    "import seaborn as sns\n",
    "from sklearn.impute import SimpleImputer\n",
    "from sklearn.model_selection import train_test_split, cross_val_score\n",
    "from sklearn.metrics import accuracy_score, classification_report, confusion_matrix\n",
    "\n",
    "%matplotlib inline"
   ]
  },
  {
   "cell_type": "markdown",
   "id": "2c387e1c",
   "metadata": {},
   "source": [
    "## Configurando Seed"
   ]
  },
  {
   "cell_type": "code",
   "execution_count": 3,
   "id": "ed083395",
   "metadata": {},
   "outputs": [],
   "source": [
    "RANDOM_SEED = 42\n",
    "np.random.seed(RANDOM_SEED)"
   ]
  },
  {
   "cell_type": "markdown",
   "id": "4c233668",
   "metadata": {},
   "source": [
    "## Carregando Dados"
   ]
  },
  {
   "cell_type": "code",
   "execution_count": 4,
   "id": "c5c6249f",
   "metadata": {},
   "outputs": [
    {
     "data": {
      "text/html": [
       "<div>\n",
       "<style scoped>\n",
       "    .dataframe tbody tr th:only-of-type {\n",
       "        vertical-align: middle;\n",
       "    }\n",
       "\n",
       "    .dataframe tbody tr th {\n",
       "        vertical-align: top;\n",
       "    }\n",
       "\n",
       "    .dataframe thead th {\n",
       "        text-align: right;\n",
       "    }\n",
       "</style>\n",
       "<table border=\"1\" class=\"dataframe\">\n",
       "  <thead>\n",
       "    <tr style=\"text-align: right;\">\n",
       "      <th></th>\n",
       "      <th>animal</th>\n",
       "      <th>hair</th>\n",
       "      <th>feathers</th>\n",
       "      <th>eggs</th>\n",
       "      <th>milk</th>\n",
       "      <th>airborne</th>\n",
       "      <th>aquatic</th>\n",
       "      <th>predator</th>\n",
       "      <th>toothed</th>\n",
       "      <th>backbone</th>\n",
       "      <th>breathes</th>\n",
       "      <th>venomous</th>\n",
       "      <th>fins</th>\n",
       "      <th>legs</th>\n",
       "      <th>tail</th>\n",
       "      <th>domestic</th>\n",
       "      <th>catsize</th>\n",
       "      <th>type</th>\n",
       "    </tr>\n",
       "  </thead>\n",
       "  <tbody>\n",
       "    <tr>\n",
       "      <th>0</th>\n",
       "      <td>aardvark</td>\n",
       "      <td>1.0</td>\n",
       "      <td>0.0</td>\n",
       "      <td>0.0</td>\n",
       "      <td>1.0</td>\n",
       "      <td>0.0</td>\n",
       "      <td>0.0</td>\n",
       "      <td>NaN</td>\n",
       "      <td>1.0</td>\n",
       "      <td>1.0</td>\n",
       "      <td>1.0</td>\n",
       "      <td>0.0</td>\n",
       "      <td>0.0</td>\n",
       "      <td>4</td>\n",
       "      <td>NaN</td>\n",
       "      <td>0.0</td>\n",
       "      <td>1.0</td>\n",
       "      <td>1</td>\n",
       "    </tr>\n",
       "    <tr>\n",
       "      <th>1</th>\n",
       "      <td>antelope</td>\n",
       "      <td>1.0</td>\n",
       "      <td>0.0</td>\n",
       "      <td>0.0</td>\n",
       "      <td>1.0</td>\n",
       "      <td>0.0</td>\n",
       "      <td>NaN</td>\n",
       "      <td>0.0</td>\n",
       "      <td>1.0</td>\n",
       "      <td>NaN</td>\n",
       "      <td>1.0</td>\n",
       "      <td>0.0</td>\n",
       "      <td>0.0</td>\n",
       "      <td>4</td>\n",
       "      <td>1.0</td>\n",
       "      <td>0.0</td>\n",
       "      <td>1.0</td>\n",
       "      <td>1</td>\n",
       "    </tr>\n",
       "    <tr>\n",
       "      <th>2</th>\n",
       "      <td>bass</td>\n",
       "      <td>0.0</td>\n",
       "      <td>0.0</td>\n",
       "      <td>1.0</td>\n",
       "      <td>0.0</td>\n",
       "      <td>0.0</td>\n",
       "      <td>1.0</td>\n",
       "      <td>1.0</td>\n",
       "      <td>1.0</td>\n",
       "      <td>1.0</td>\n",
       "      <td>0.0</td>\n",
       "      <td>0.0</td>\n",
       "      <td>1.0</td>\n",
       "      <td>0</td>\n",
       "      <td>1.0</td>\n",
       "      <td>0.0</td>\n",
       "      <td>0.0</td>\n",
       "      <td>4</td>\n",
       "    </tr>\n",
       "    <tr>\n",
       "      <th>3</th>\n",
       "      <td>bear</td>\n",
       "      <td>NaN</td>\n",
       "      <td>0.0</td>\n",
       "      <td>NaN</td>\n",
       "      <td>1.0</td>\n",
       "      <td>0.0</td>\n",
       "      <td>0.0</td>\n",
       "      <td>1.0</td>\n",
       "      <td>1.0</td>\n",
       "      <td>1.0</td>\n",
       "      <td>1.0</td>\n",
       "      <td>0.0</td>\n",
       "      <td>0.0</td>\n",
       "      <td>4</td>\n",
       "      <td>0.0</td>\n",
       "      <td>0.0</td>\n",
       "      <td>1.0</td>\n",
       "      <td>1</td>\n",
       "    </tr>\n",
       "    <tr>\n",
       "      <th>4</th>\n",
       "      <td>boar</td>\n",
       "      <td>1.0</td>\n",
       "      <td>NaN</td>\n",
       "      <td>0.0</td>\n",
       "      <td>1.0</td>\n",
       "      <td>0.0</td>\n",
       "      <td>0.0</td>\n",
       "      <td>1.0</td>\n",
       "      <td>NaN</td>\n",
       "      <td>NaN</td>\n",
       "      <td>1.0</td>\n",
       "      <td>0.0</td>\n",
       "      <td>0.0</td>\n",
       "      <td>4</td>\n",
       "      <td>1.0</td>\n",
       "      <td>0.0</td>\n",
       "      <td>1.0</td>\n",
       "      <td>1</td>\n",
       "    </tr>\n",
       "  </tbody>\n",
       "</table>\n",
       "</div>"
      ],
      "text/plain": [
       "     animal  hair  feathers  eggs  milk  airborne  aquatic  predator  toothed  \\\n",
       "0  aardvark   1.0       0.0   0.0   1.0       0.0      0.0       NaN      1.0   \n",
       "1  antelope   1.0       0.0   0.0   1.0       0.0      NaN       0.0      1.0   \n",
       "2      bass   0.0       0.0   1.0   0.0       0.0      1.0       1.0      1.0   \n",
       "3      bear   NaN       0.0   NaN   1.0       0.0      0.0       1.0      1.0   \n",
       "4      boar   1.0       NaN   0.0   1.0       0.0      0.0       1.0      NaN   \n",
       "\n",
       "   backbone  breathes  venomous  fins  legs  tail  domestic  catsize  type  \n",
       "0       1.0       1.0       0.0   0.0     4   NaN       0.0      1.0     1  \n",
       "1       NaN       1.0       0.0   0.0     4   1.0       0.0      1.0     1  \n",
       "2       1.0       0.0       0.0   1.0     0   1.0       0.0      0.0     4  \n",
       "3       1.0       1.0       0.0   0.0     4   0.0       0.0      1.0     1  \n",
       "4       NaN       1.0       0.0   0.0     4   1.0       0.0      1.0     1  "
      ]
     },
     "execution_count": 4,
     "metadata": {},
     "output_type": "execute_result"
    }
   ],
   "source": [
    "zoo = pd.read_csv('zoo.csv')\n",
    "zoo.head()"
   ]
  },
  {
   "cell_type": "markdown",
   "id": "7616c52d",
   "metadata": {},
   "source": [
    "## Entendendimento Inicial dos Dados"
   ]
  },
  {
   "cell_type": "code",
   "execution_count": 5,
   "id": "437ccec1",
   "metadata": {},
   "outputs": [
    {
     "name": "stdout",
     "output_type": "stream",
     "text": [
      "<class 'pandas.core.frame.DataFrame'>\n",
      "RangeIndex: 101 entries, 0 to 100\n",
      "Data columns (total 18 columns):\n",
      " #   Column    Non-Null Count  Dtype  \n",
      "---  ------    --------------  -----  \n",
      " 0   animal    101 non-null    object \n",
      " 1   hair      93 non-null     float64\n",
      " 2   feathers  92 non-null     float64\n",
      " 3   eggs      90 non-null     float64\n",
      " 4   milk      83 non-null     float64\n",
      " 5   airborne  94 non-null     float64\n",
      " 6   aquatic   94 non-null     float64\n",
      " 7   predator  88 non-null     float64\n",
      " 8   toothed   88 non-null     float64\n",
      " 9   backbone  91 non-null     float64\n",
      " 10  breathes  91 non-null     float64\n",
      " 11  venomous  93 non-null     float64\n",
      " 12  fins      95 non-null     float64\n",
      " 13  legs      101 non-null    int64  \n",
      " 14  tail      84 non-null     float64\n",
      " 15  domestic  95 non-null     float64\n",
      " 16  catsize   90 non-null     float64\n",
      " 17  type      101 non-null    int64  \n",
      "dtypes: float64(15), int64(2), object(1)\n",
      "memory usage: 14.3+ KB\n"
     ]
    }
   ],
   "source": [
    "zoo.info()"
   ]
  },
  {
   "cell_type": "markdown",
   "id": "5cae7f83",
   "metadata": {},
   "source": [
    "## Criando um imputer para substituir os valores faltantes"
   ]
  },
  {
   "cell_type": "code",
   "execution_count": 6,
   "id": "ee66aaa4",
   "metadata": {},
   "outputs": [],
   "source": [
    "zoo_imputer = zoo.copy()"
   ]
  },
  {
   "cell_type": "code",
   "execution_count": 7,
   "id": "cefdf59c",
   "metadata": {},
   "outputs": [
    {
     "name": "stdout",
     "output_type": "stream",
     "text": [
      "<class 'pandas.core.frame.DataFrame'>\n",
      "RangeIndex: 101 entries, 0 to 100\n",
      "Data columns (total 18 columns):\n",
      " #   Column    Non-Null Count  Dtype \n",
      "---  ------    --------------  ----- \n",
      " 0   animal    101 non-null    object\n",
      " 1   hair      101 non-null    object\n",
      " 2   feathers  101 non-null    object\n",
      " 3   eggs      101 non-null    object\n",
      " 4   milk      101 non-null    object\n",
      " 5   airborne  101 non-null    object\n",
      " 6   aquatic   101 non-null    object\n",
      " 7   predator  101 non-null    object\n",
      " 8   toothed   101 non-null    object\n",
      " 9   backbone  101 non-null    object\n",
      " 10  breathes  101 non-null    object\n",
      " 11  venomous  101 non-null    object\n",
      " 12  fins      101 non-null    object\n",
      " 13  legs      101 non-null    object\n",
      " 14  tail      101 non-null    object\n",
      " 15  domestic  101 non-null    object\n",
      " 16  catsize   101 non-null    object\n",
      " 17  type      101 non-null    object\n",
      "dtypes: object(18)\n",
      "memory usage: 14.3+ KB\n"
     ]
    }
   ],
   "source": [
    "imputer = SimpleImputer(strategy='most_frequent')\n",
    "new_zoo = pd.DataFrame(imputer.fit_transform(zoo_imputer), columns=zoo_imputer.columns)\n",
    "new_zoo.info()"
   ]
  },
  {
   "cell_type": "code",
   "execution_count": 8,
   "id": "457707cf",
   "metadata": {},
   "outputs": [
    {
     "data": {
      "text/html": [
       "<div>\n",
       "<style scoped>\n",
       "    .dataframe tbody tr th:only-of-type {\n",
       "        vertical-align: middle;\n",
       "    }\n",
       "\n",
       "    .dataframe tbody tr th {\n",
       "        vertical-align: top;\n",
       "    }\n",
       "\n",
       "    .dataframe thead th {\n",
       "        text-align: right;\n",
       "    }\n",
       "</style>\n",
       "<table border=\"1\" class=\"dataframe\">\n",
       "  <thead>\n",
       "    <tr style=\"text-align: right;\">\n",
       "      <th></th>\n",
       "      <th>animal</th>\n",
       "      <th>hair</th>\n",
       "      <th>feathers</th>\n",
       "      <th>eggs</th>\n",
       "      <th>milk</th>\n",
       "      <th>airborne</th>\n",
       "      <th>aquatic</th>\n",
       "      <th>predator</th>\n",
       "      <th>toothed</th>\n",
       "      <th>backbone</th>\n",
       "      <th>breathes</th>\n",
       "      <th>venomous</th>\n",
       "      <th>fins</th>\n",
       "      <th>legs</th>\n",
       "      <th>tail</th>\n",
       "      <th>domestic</th>\n",
       "      <th>catsize</th>\n",
       "      <th>type</th>\n",
       "    </tr>\n",
       "  </thead>\n",
       "  <tbody>\n",
       "    <tr>\n",
       "      <th>0</th>\n",
       "      <td>aardvark</td>\n",
       "      <td>1.0</td>\n",
       "      <td>0.0</td>\n",
       "      <td>0.0</td>\n",
       "      <td>1.0</td>\n",
       "      <td>0.0</td>\n",
       "      <td>0.0</td>\n",
       "      <td>1.0</td>\n",
       "      <td>1.0</td>\n",
       "      <td>1.0</td>\n",
       "      <td>1.0</td>\n",
       "      <td>0.0</td>\n",
       "      <td>0.0</td>\n",
       "      <td>4</td>\n",
       "      <td>1.0</td>\n",
       "      <td>0.0</td>\n",
       "      <td>1.0</td>\n",
       "      <td>1</td>\n",
       "    </tr>\n",
       "    <tr>\n",
       "      <th>1</th>\n",
       "      <td>antelope</td>\n",
       "      <td>1.0</td>\n",
       "      <td>0.0</td>\n",
       "      <td>0.0</td>\n",
       "      <td>1.0</td>\n",
       "      <td>0.0</td>\n",
       "      <td>0.0</td>\n",
       "      <td>0.0</td>\n",
       "      <td>1.0</td>\n",
       "      <td>1.0</td>\n",
       "      <td>1.0</td>\n",
       "      <td>0.0</td>\n",
       "      <td>0.0</td>\n",
       "      <td>4</td>\n",
       "      <td>1.0</td>\n",
       "      <td>0.0</td>\n",
       "      <td>1.0</td>\n",
       "      <td>1</td>\n",
       "    </tr>\n",
       "    <tr>\n",
       "      <th>2</th>\n",
       "      <td>bass</td>\n",
       "      <td>0.0</td>\n",
       "      <td>0.0</td>\n",
       "      <td>1.0</td>\n",
       "      <td>0.0</td>\n",
       "      <td>0.0</td>\n",
       "      <td>1.0</td>\n",
       "      <td>1.0</td>\n",
       "      <td>1.0</td>\n",
       "      <td>1.0</td>\n",
       "      <td>0.0</td>\n",
       "      <td>0.0</td>\n",
       "      <td>1.0</td>\n",
       "      <td>0</td>\n",
       "      <td>1.0</td>\n",
       "      <td>0.0</td>\n",
       "      <td>0.0</td>\n",
       "      <td>4</td>\n",
       "    </tr>\n",
       "    <tr>\n",
       "      <th>3</th>\n",
       "      <td>bear</td>\n",
       "      <td>0.0</td>\n",
       "      <td>0.0</td>\n",
       "      <td>1.0</td>\n",
       "      <td>1.0</td>\n",
       "      <td>0.0</td>\n",
       "      <td>0.0</td>\n",
       "      <td>1.0</td>\n",
       "      <td>1.0</td>\n",
       "      <td>1.0</td>\n",
       "      <td>1.0</td>\n",
       "      <td>0.0</td>\n",
       "      <td>0.0</td>\n",
       "      <td>4</td>\n",
       "      <td>0.0</td>\n",
       "      <td>0.0</td>\n",
       "      <td>1.0</td>\n",
       "      <td>1</td>\n",
       "    </tr>\n",
       "    <tr>\n",
       "      <th>4</th>\n",
       "      <td>boar</td>\n",
       "      <td>1.0</td>\n",
       "      <td>0.0</td>\n",
       "      <td>0.0</td>\n",
       "      <td>1.0</td>\n",
       "      <td>0.0</td>\n",
       "      <td>0.0</td>\n",
       "      <td>1.0</td>\n",
       "      <td>1.0</td>\n",
       "      <td>1.0</td>\n",
       "      <td>1.0</td>\n",
       "      <td>0.0</td>\n",
       "      <td>0.0</td>\n",
       "      <td>4</td>\n",
       "      <td>1.0</td>\n",
       "      <td>0.0</td>\n",
       "      <td>1.0</td>\n",
       "      <td>1</td>\n",
       "    </tr>\n",
       "  </tbody>\n",
       "</table>\n",
       "</div>"
      ],
      "text/plain": [
       "     animal hair feathers eggs milk airborne aquatic predator toothed  \\\n",
       "0  aardvark  1.0      0.0  0.0  1.0      0.0     0.0      1.0     1.0   \n",
       "1  antelope  1.0      0.0  0.0  1.0      0.0     0.0      0.0     1.0   \n",
       "2      bass  0.0      0.0  1.0  0.0      0.0     1.0      1.0     1.0   \n",
       "3      bear  0.0      0.0  1.0  1.0      0.0     0.0      1.0     1.0   \n",
       "4      boar  1.0      0.0  0.0  1.0      0.0     0.0      1.0     1.0   \n",
       "\n",
       "  backbone breathes venomous fins legs tail domestic catsize type  \n",
       "0      1.0      1.0      0.0  0.0    4  1.0      0.0     1.0    1  \n",
       "1      1.0      1.0      0.0  0.0    4  1.0      0.0     1.0    1  \n",
       "2      1.0      0.0      0.0  1.0    0  1.0      0.0     0.0    4  \n",
       "3      1.0      1.0      0.0  0.0    4  0.0      0.0     1.0    1  \n",
       "4      1.0      1.0      0.0  0.0    4  1.0      0.0     1.0    1  "
      ]
     },
     "execution_count": 8,
     "metadata": {},
     "output_type": "execute_result"
    }
   ],
   "source": [
    "new_zoo.head()"
   ]
  },
  {
   "cell_type": "markdown",
   "id": "d66deeae",
   "metadata": {},
   "source": [
    "## Dividindo dados em conjuntos Train & Test"
   ]
  },
  {
   "cell_type": "code",
   "execution_count": 9,
   "id": "09219aa1",
   "metadata": {},
   "outputs": [],
   "source": [
    "X = new_zoo.drop([\"animal\", 'type'], axis=1).astype('int')\n",
    "y = new_zoo['type'].astype('int')\n",
    "X_train, X_test, y_train, y_test = train_test_split(X, y, test_size=0.2)"
   ]
  },
  {
   "cell_type": "markdown",
   "id": "744ae063",
   "metadata": {},
   "source": [
    "## Testando Diferentes Modelos"
   ]
  },
  {
   "cell_type": "code",
   "execution_count": 10,
   "id": "b08ebf91",
   "metadata": {},
   "outputs": [],
   "source": [
    "def display_scores(scores):\n",
    "    print('Scores:', scores.round(decimals=2))\n",
    "    print('Mean:', scores.mean())\n",
    "    print('Standard deviation:', scores.std())"
   ]
  },
  {
   "cell_type": "markdown",
   "id": "256707de",
   "metadata": {},
   "source": [
    "### Ridge Classifier"
   ]
  },
  {
   "cell_type": "code",
   "execution_count": 11,
   "id": "b9fd4a39",
   "metadata": {},
   "outputs": [
    {
     "name": "stdout",
     "output_type": "stream",
     "text": [
      "Scores: [0.93 0.96 0.92]\n",
      "Mean: 0.9373219373219372\n",
      "Standard deviation: 0.018168211272278204\n"
     ]
    }
   ],
   "source": [
    "from sklearn.linear_model import RidgeClassifier\n",
    "\n",
    "ridge = RidgeClassifier(random_state=RANDOM_SEED)\n",
    "scores_ridge = cross_val_score(ridge, X_train, y_train, cv=3, scoring='accuracy', n_jobs=-1)\n",
    "display_scores(scores_ridge)"
   ]
  },
  {
   "cell_type": "markdown",
   "id": "2a0637be",
   "metadata": {},
   "source": [
    "### SGD Classifier"
   ]
  },
  {
   "cell_type": "code",
   "execution_count": 12,
   "id": "ad735b68",
   "metadata": {},
   "outputs": [
    {
     "name": "stdout",
     "output_type": "stream",
     "text": [
      "Scores: [0.89 0.85 0.88]\n",
      "Mean: 0.8751187084520419\n",
      "Standard deviation: 0.016544398281276657\n"
     ]
    }
   ],
   "source": [
    "from sklearn.linear_model import SGDClassifier\n",
    "\n",
    "sgd = SGDClassifier(random_state=RANDOM_SEED)\n",
    "scores_sgd = cross_val_score(sgd, X_train, y_train, cv=3, scoring='accuracy', n_jobs=-1)\n",
    "display_scores(scores_sgd)"
   ]
  },
  {
   "cell_type": "markdown",
   "id": "fc31ba3c",
   "metadata": {},
   "source": [
    "### Random Forest Classifier"
   ]
  },
  {
   "cell_type": "code",
   "execution_count": 13,
   "id": "584d2f87",
   "metadata": {},
   "outputs": [
    {
     "name": "stdout",
     "output_type": "stream",
     "text": [
      "Scores: [0.96 1.   0.96]\n",
      "Mean: 0.9748338081671415\n",
      "Standard deviation: 0.017804684956555253\n"
     ]
    }
   ],
   "source": [
    "from sklearn.ensemble import RandomForestClassifier\n",
    "\n",
    "forest = RandomForestClassifier(random_state=RANDOM_SEED)\n",
    "scores_forest = cross_val_score(forest, X_train, y_train, cv=3, scoring='accuracy', n_jobs=-1)\n",
    "display_scores(scores_forest)"
   ]
  },
  {
   "cell_type": "markdown",
   "id": "b0cd42c7",
   "metadata": {},
   "source": [
    "### Decision Tree Classifier"
   ]
  },
  {
   "cell_type": "code",
   "execution_count": 14,
   "id": "71177672",
   "metadata": {},
   "outputs": [
    {
     "name": "stdout",
     "output_type": "stream",
     "text": [
      "Scores: [0.96 0.89 0.88]\n",
      "Mean: 0.9121557454890787\n",
      "Standard deviation: 0.03596846507959282\n"
     ]
    }
   ],
   "source": [
    "# decision tree\n",
    "from sklearn.tree import DecisionTreeClassifier\n",
    "\n",
    "tree = DecisionTreeClassifier(random_state=RANDOM_SEED)\n",
    "scores_tree = cross_val_score(tree, X_train, y_train, cv=3, scoring='accuracy', n_jobs=-1)\n",
    "display_scores(scores_tree)"
   ]
  },
  {
   "cell_type": "markdown",
   "id": "4b482e89",
   "metadata": {},
   "source": [
    "### KNN Classifier"
   ]
  },
  {
   "cell_type": "code",
   "execution_count": 15,
   "id": "95fc8abf",
   "metadata": {},
   "outputs": [
    {
     "name": "stdout",
     "output_type": "stream",
     "text": [
      "Scores: [0.78 0.89 0.77]\n",
      "Mean: 0.8119658119658119\n",
      "Standard deviation: 0.054504633816834694\n"
     ]
    }
   ],
   "source": [
    "from sklearn.neighbors import KNeighborsClassifier\n",
    "\n",
    "knn = KNeighborsClassifier()\n",
    "scores_knn = cross_val_score(knn, X_train, y_train, cv=3, scoring='accuracy', n_jobs=-1)\n",
    "display_scores(scores_knn)"
   ]
  },
  {
   "cell_type": "markdown",
   "id": "a90f3b6b",
   "metadata": {},
   "source": [
    "### SVM Classifier"
   ]
  },
  {
   "cell_type": "code",
   "execution_count": 16,
   "id": "4d134380",
   "metadata": {},
   "outputs": [
    {
     "name": "stdout",
     "output_type": "stream",
     "text": [
      "Scores: [0.85 1.   0.92]\n",
      "Mean: 0.9249762583095916\n",
      "Standard deviation: 0.060496137924531755\n"
     ]
    }
   ],
   "source": [
    "from sklearn.svm import SVC\n",
    "\n",
    "svm = SVC(kernel='linear', random_state=RANDOM_SEED)\n",
    "scores_svm = cross_val_score(svm, X_train, y_train, cv=3, scoring='accuracy', n_jobs=-1)\n",
    "display_scores(scores_svm)"
   ]
  },
  {
   "cell_type": "markdown",
   "id": "ebf79ae7",
   "metadata": {},
   "source": [
    "### Logistic Regression"
   ]
  },
  {
   "cell_type": "code",
   "execution_count": 17,
   "id": "f423cf6b",
   "metadata": {},
   "outputs": [
    {
     "name": "stdout",
     "output_type": "stream",
     "text": [
      "Scores: [0.89 0.89 0.92]\n",
      "Mean: 0.9002849002849004\n",
      "Standard deviation: 0.016116393873197712\n"
     ]
    },
    {
     "name": "stderr",
     "output_type": "stream",
     "text": [
      "/Users/nicolas/miniforge3/envs/ml-env/lib/python3.10/site-packages/sklearn/linear_model/_logistic.py:444: ConvergenceWarning: lbfgs failed to converge (status=1):\n",
      "STOP: TOTAL NO. of ITERATIONS REACHED LIMIT.\n",
      "\n",
      "Increase the number of iterations (max_iter) or scale the data as shown in:\n",
      "    https://scikit-learn.org/stable/modules/preprocessing.html\n",
      "Please also refer to the documentation for alternative solver options:\n",
      "    https://scikit-learn.org/stable/modules/linear_model.html#logistic-regression\n",
      "  n_iter_i = _check_optimize_result(\n",
      "/Users/nicolas/miniforge3/envs/ml-env/lib/python3.10/site-packages/sklearn/linear_model/_logistic.py:444: ConvergenceWarning: lbfgs failed to converge (status=1):\n",
      "STOP: TOTAL NO. of ITERATIONS REACHED LIMIT.\n",
      "\n",
      "Increase the number of iterations (max_iter) or scale the data as shown in:\n",
      "    https://scikit-learn.org/stable/modules/preprocessing.html\n",
      "Please also refer to the documentation for alternative solver options:\n",
      "    https://scikit-learn.org/stable/modules/linear_model.html#logistic-regression\n",
      "  n_iter_i = _check_optimize_result(\n",
      "/Users/nicolas/miniforge3/envs/ml-env/lib/python3.10/site-packages/sklearn/linear_model/_logistic.py:444: ConvergenceWarning: lbfgs failed to converge (status=1):\n",
      "STOP: TOTAL NO. of ITERATIONS REACHED LIMIT.\n",
      "\n",
      "Increase the number of iterations (max_iter) or scale the data as shown in:\n",
      "    https://scikit-learn.org/stable/modules/preprocessing.html\n",
      "Please also refer to the documentation for alternative solver options:\n",
      "    https://scikit-learn.org/stable/modules/linear_model.html#logistic-regression\n",
      "  n_iter_i = _check_optimize_result(\n"
     ]
    }
   ],
   "source": [
    "from sklearn.linear_model import LogisticRegression\n",
    "\n",
    "logistic = LogisticRegression(random_state=RANDOM_SEED)\n",
    "scores_logistic = cross_val_score(logistic, X_train, y_train, cv=3, scoring='accuracy', n_jobs=-1)\n",
    "display_scores(scores_logistic)"
   ]
  },
  {
   "cell_type": "markdown",
   "id": "e97325c0",
   "metadata": {},
   "source": [
    "## Avaliando os Modelos"
   ]
  },
  {
   "cell_type": "code",
   "execution_count": 18,
   "id": "8f362825",
   "metadata": {},
   "outputs": [
    {
     "data": {
      "text/plain": [
       "<AxesSubplot:>"
      ]
     },
     "execution_count": 18,
     "metadata": {},
     "output_type": "execute_result"
    },
    {
     "data": {
      "image/png": "[encoded data removed]",
      "text/plain": [
       "<Figure size 1000x600 with 1 Axes>"
      ]
     },
     "metadata": {},
     "output_type": "display_data"
    }
   ],
   "source": [
    "pd.DataFrame({\n",
    "    'RIDGE': scores_ridge,\n",
    "    'SGD': scores_sgd,\n",
    "    'FOREST': scores_forest,\n",
    "    'TREE': scores_tree,\n",
    "    'KNN': scores_knn,\n",
    "    'SVM': scores_svm,\n",
    "    'LOGISTIC': scores_logistic,\n",
    "}).plot.box(figsize=(10, 6))"
   ]
  },
  {
   "cell_type": "markdown",
   "id": "adf0eb6d",
   "metadata": {},
   "source": [
    "### Avaliação do modelo otimo\n",
    "\n",
    "- Conseguimos observar que o modelo com melhor desempenho foi o Random Forest Classifier, com os quartis do boxplot mais proximos de 1."
   ]
  },
  {
   "cell_type": "markdown",
   "id": "fee3c7cc",
   "metadata": {},
   "source": [
    "## Aplicando otimizações ao modelo Random Forest Classifier"
   ]
  },
  {
   "cell_type": "code",
   "execution_count": 19,
   "id": "8c7e8b6d",
   "metadata": {},
   "outputs": [
    {
     "name": "stdout",
     "output_type": "stream",
     "text": [
      "Tempo gasto: 745.90 s\n"
     ]
    }
   ],
   "source": [
    "import time\n",
    "from sklearn.model_selection import GridSearchCV\n",
    "\n",
    "\n",
    "forest = RandomForestClassifier(\n",
    "    n_estimators=100,\n",
    "    random_state=RANDOM_SEED,\n",
    "    n_jobs=-1,\n",
    ")\n",
    "\n",
    "params = {\n",
    "    'bootstrap': [True, False],\n",
    "    'max_depth': [10, 20, 30, 40, 50, 60, 70, 80, 90, 100, None],\n",
    "    'min_samples_leaf': [1, 2, 4],\n",
    "    'min_samples_split': [2, 5, 10],\n",
    "    'n_estimators': [200, 400, 600, 800, 1000, 1200, 1400, 1600, 1800, 2000]\n",
    "}\n",
    "\n",
    "grid = GridSearchCV(forest, params, cv=3, scoring='neg_mean_squared_error', n_jobs=-1)\n",
    "\n",
    "t1 = time.perf_counter()\n",
    "grid.fit(X_train, y_train)\n",
    "t2 = time.perf_counter()\n",
    "print(f'Tempo gasto: {t2 - t1:.2f} s')"
   ]
  },
  {
   "cell_type": "code",
   "execution_count": 20,
   "id": "285c848c",
   "metadata": {},
   "outputs": [
    {
     "name": "stdout",
     "output_type": "stream",
     "text": [
      "              precision    recall  f1-score   support\n",
      "\n",
      "           1       0.92      1.00      0.96        12\n",
      "           2       1.00      1.00      1.00         2\n",
      "           3       0.00      0.00      0.00         1\n",
      "           4       1.00      1.00      1.00         2\n",
      "           6       1.00      1.00      1.00         3\n",
      "           7       1.00      1.00      1.00         1\n",
      "\n",
      "    accuracy                           0.95        21\n",
      "   macro avg       0.82      0.83      0.83        21\n",
      "weighted avg       0.91      0.95      0.93        21\n",
      "\n"
     ]
    }
   ],
   "source": [
    "grid_pred = grid.predict(X_test)\n",
    "print(classification_report(y_test, grid_pred))"
   ]
  },
  {
   "cell_type": "markdown",
   "id": "13f38425",
   "metadata": {},
   "source": [
    "- O modelo Random Forest Classifier com as otimizações apresentou uma **acurácia de 0.95**."
   ]
  },
  {
   "cell_type": "code",
   "execution_count": 21,
   "id": "fd8ca3d3",
   "metadata": {},
   "outputs": [
    {
     "data": {
      "image/png": "[encoded data removed]",
      "text/plain": [
       "<Figure size 1000x700 with 2 Axes>"
      ]
     },
     "metadata": {},
     "output_type": "display_data"
    }
   ],
   "source": [
    "confusion_mtx = confusion_matrix(\n",
    "    y_test,\n",
    "    grid_pred,\n",
    "    labels=np.arange(0, 7),\n",
    "    normalize=\"true\",\n",
    ")\n",
    "plt.figure(figsize=(10, 7))\n",
    "sns.heatmap(confusion_mtx/np.sum(confusion_mtx), annot=True, fmt='.2%')\n",
    "plt.show()"
   ]
  },
  {
   "cell_type": "markdown",
   "id": "6396b5fb",
   "metadata": {},
   "source": [
    "- O procedimento procurou a melhor combinação de hiperparâmetros para o nosso regressor:"
   ]
  },
  {
   "cell_type": "code",
   "execution_count": 22,
   "id": "63bb2df2",
   "metadata": {},
   "outputs": [
    {
     "data": {
      "text/plain": [
       "{'bootstrap': False,\n",
       " 'max_depth': 10,\n",
       " 'min_samples_leaf': 1,\n",
       " 'min_samples_split': 5,\n",
       " 'n_estimators': 1000}"
      ]
     },
     "execution_count": 22,
     "metadata": {},
     "output_type": "execute_result"
    }
   ],
   "source": [
    "grid.best_params_"
   ]
  },
  {
   "cell_type": "markdown",
   "id": "294d228b",
   "metadata": {},
   "source": [
    "- O ``GridSearch`` já retorna o melhor modelo treinado:"
   ]
  },
  {
   "cell_type": "code",
   "execution_count": 23,
   "id": "a53bac10",
   "metadata": {},
   "outputs": [
    {
     "data": {
      "text/html": [
       "<style>#sk-container-id-1 {color: black;background-color: white;}#sk-container-id-1 pre{padding: 0;}#sk-container-id-1 div.sk-toggleable {background-color: white;}#sk-container-id-1 label.sk-toggleable__label {cursor: pointer;display: block;width: 100%;margin-bottom: 0;padding: 0.3em;box-sizing: border-box;text-align: center;}#sk-container-id-1 label.sk-toggleable__label-arrow:before {content: \"▸\";float: left;margin-right: 0.25em;color: #696969;}#sk-container-id-1 label.sk-toggleable__label-arrow:hover:before {color: black;}#sk-container-id-1 div.sk-estimator:hover label.sk-toggleable__label-arrow:before {color: black;}#sk-container-id-1 div.sk-toggleable__content {max-height: 0;max-width: 0;overflow: hidden;text-align: left;background-color: #f0f8ff;}#sk-container-id-1 div.sk-toggleable__content pre {margin: 0.2em;color: black;border-radius: 0.25em;background-color: #f0f8ff;}#sk-container-id-1 input.sk-toggleable__control:checked~div.sk-toggleable__content {max-height: 200px;max-width: 100%;overflow: auto;}#sk-container-id-1 input.sk-toggleable__control:checked~label.sk-toggleable__label-arrow:before {content: \"▾\";}#sk-container-id-1 div.sk-estimator input.sk-toggleable__control:checked~label.sk-toggleable__label {background-color: #d4ebff;}#sk-container-id-1 div.sk-label input.sk-toggleable__control:checked~label.sk-toggleable__label {background-color: #d4ebff;}#sk-container-id-1 input.sk-hidden--visually {border: 0;clip: rect(1px 1px 1px 1px);clip: rect(1px, 1px, 1px, 1px);height: 1px;margin: -1px;overflow: hidden;padding: 0;position: absolute;width: 1px;}#sk-container-id-1 div.sk-estimator {font-family: monospace;background-color: #f0f8ff;border: 1px dotted black;border-radius: 0.25em;box-sizing: border-box;margin-bottom: 0.5em;}#sk-container-id-1 div.sk-estimator:hover {background-color: #d4ebff;}#sk-container-id-1 div.sk-parallel-item::after {content: \"\";width: 100%;border-bottom: 1px solid gray;flex-grow: 1;}#sk-container-id-1 div.sk-label:hover label.sk-toggleable__label {background-color: #d4ebff;}#sk-container-id-1 div.sk-serial::before {content: \"\";position: absolute;border-left: 1px solid gray;box-sizing: border-box;top: 0;bottom: 0;left: 50%;z-index: 0;}#sk-container-id-1 div.sk-serial {display: flex;flex-direction: column;align-items: center;background-color: white;padding-right: 0.2em;padding-left: 0.2em;position: relative;}#sk-container-id-1 div.sk-item {position: relative;z-index: 1;}#sk-container-id-1 div.sk-parallel {display: flex;align-items: stretch;justify-content: center;background-color: white;position: relative;}#sk-container-id-1 div.sk-item::before, #sk-container-id-1 div.sk-parallel-item::before {content: \"\";position: absolute;border-left: 1px solid gray;box-sizing: border-box;top: 0;bottom: 0;left: 50%;z-index: -1;}#sk-container-id-1 div.sk-parallel-item {display: flex;flex-direction: column;z-index: 1;position: relative;background-color: white;}#sk-container-id-1 div.sk-parallel-item:first-child::after {align-self: flex-end;width: 50%;}#sk-container-id-1 div.sk-parallel-item:last-child::after {align-self: flex-start;width: 50%;}#sk-container-id-1 div.sk-parallel-item:only-child::after {width: 0;}#sk-container-id-1 div.sk-dashed-wrapped {border: 1px dashed gray;margin: 0 0.4em 0.5em 0.4em;box-sizing: border-box;padding-bottom: 0.4em;background-color: white;}#sk-container-id-1 div.sk-label label {font-family: monospace;font-weight: bold;display: inline-block;line-height: 1.2em;}#sk-container-id-1 div.sk-label-container {text-align: center;}#sk-container-id-1 div.sk-container {/* jupyter's `normalize.less` sets `[hidden] { display: none; }` but bootstrap.min.css set `[hidden] { display: none !important; }` so we also need the `!important` here to be able to override the default hidden behavior on the sphinx rendered scikit-learn.org. See: https://github.com/scikit-learn/scikit-learn/issues/21755 */display: inline-block !important;position: relative;}#sk-container-id-1 div.sk-text-repr-fallback {display: none;}</style><div id=\"sk-container-id-1\" class=\"sk-top-container\"><div class=\"sk-text-repr-fallback\"><pre>RandomForestClassifier(bootstrap=False, max_depth=10, min_samples_split=5,\n",
       "                       n_estimators=1000, n_jobs=-1, random_state=42)</pre><b>In a Jupyter environment, please rerun this cell to show the HTML representation or trust the notebook. <br />On GitHub, the HTML representation is unable to render, please try loading this page with nbviewer.org.</b></div><div class=\"sk-container\" hidden><div class=\"sk-item\"><div class=\"sk-estimator sk-toggleable\"><input class=\"sk-toggleable__control sk-hidden--visually\" id=\"sk-estimator-id-1\" type=\"checkbox\" checked><label for=\"sk-estimator-id-1\" class=\"sk-toggleable__label sk-toggleable__label-arrow\">RandomForestClassifier</label><div class=\"sk-toggleable__content\"><pre>RandomForestClassifier(bootstrap=False, max_depth=10, min_samples_split=5,\n",
       "                       n_estimators=1000, n_jobs=-1, random_state=42)</pre></div></div></div></div></div>"
      ],
      "text/plain": [
       "RandomForestClassifier(bootstrap=False, max_depth=10, min_samples_split=5,\n",
       "                       n_estimators=1000, n_jobs=-1, random_state=42)"
      ]
     },
     "execution_count": 23,
     "metadata": {},
     "output_type": "execute_result"
    }
   ],
   "source": [
    "grid.best_estimator_"
   ]
  },
  {
   "cell_type": "markdown",
   "id": "5f12cb2c",
   "metadata": {},
   "source": [
    "- Para ver como o ``GridSearch`` decidiu a importância de cada feature para o modelo, podemos usar o atributo ``feature_importances_``:"
   ]
  },
  {
   "cell_type": "code",
   "execution_count": 24,
   "id": "5c939c8e",
   "metadata": {},
   "outputs": [
    {
     "data": {
      "text/plain": [
       "[(0.14077571808091158, 'feathers'),\n",
       " (0.13693593999473183, 'hair'),\n",
       " (0.11332091393247253, 'legs'),\n",
       " (0.1092574161033244, 'eggs'),\n",
       " (0.0854646341324918, 'fins'),\n",
       " (0.08529582708446683, 'backbone'),\n",
       " (0.06886748403115327, 'milk'),\n",
       " (0.059883813086208756, 'toothed'),\n",
       " (0.05522905112521865, 'aquatic'),\n",
       " (0.04134887111847459, 'breathes'),\n",
       " (0.04099461175721161, 'tail'),\n",
       " (0.03430192296972066, 'airborne'),\n",
       " (0.01228923680865508, 'predator'),\n",
       " (0.010064263305131903, 'catsize'),\n",
       " (0.004256962594219104, 'venomous'),\n",
       " (0.0017133338756074026, 'domestic')]"
      ]
     },
     "execution_count": 24,
     "metadata": {},
     "output_type": "execute_result"
    }
   ],
   "source": [
    "list_of_importance = grid.best_estimator_.feature_importances_\n",
    "attributes = list(X_train)\n",
    "sorted(zip(list_of_importance , attributes), reverse = True)"
   ]
  },
  {
   "cell_type": "markdown",
   "id": "0c454e0e",
   "metadata": {},
   "source": [
    "## Finalmente: Repetir o processo com o conjunto mínimo de features!"
   ]
  },
  {
   "cell_type": "code",
   "execution_count": 33,
   "id": "e72ecf46",
   "metadata": {},
   "outputs": [
    {
     "name": "stdout",
     "output_type": "stream",
     "text": [
      "['hair', 'feathers', 'eggs', 'milk', 'aquatic', 'toothed', 'backbone', 'fins', 'legs']\n"
     ]
    }
   ],
   "source": [
    "feature_list = [attributes[i] for i in range(len(list_of_importance)) if list_of_importance[i] > 0.05]\n",
    "print(feature_list)\n",
    "\n",
    "new_X_train = X_train.loc[:, feature_list]\n",
    "new_X_test = X_test.loc[:, feature_list]"
   ]
  },
  {
   "cell_type": "code",
   "execution_count": 34,
   "id": "efb1ed9f",
   "metadata": {},
   "outputs": [
    {
     "data": {
      "text/html": [
       "<style>#sk-container-id-4 {color: black;background-color: white;}#sk-container-id-4 pre{padding: 0;}#sk-container-id-4 div.sk-toggleable {background-color: white;}#sk-container-id-4 label.sk-toggleable__label {cursor: pointer;display: block;width: 100%;margin-bottom: 0;padding: 0.3em;box-sizing: border-box;text-align: center;}#sk-container-id-4 label.sk-toggleable__label-arrow:before {content: \"▸\";float: left;margin-right: 0.25em;color: #696969;}#sk-container-id-4 label.sk-toggleable__label-arrow:hover:before {color: black;}#sk-container-id-4 div.sk-estimator:hover label.sk-toggleable__label-arrow:before {color: black;}#sk-container-id-4 div.sk-toggleable__content {max-height: 0;max-width: 0;overflow: hidden;text-align: left;background-color: #f0f8ff;}#sk-container-id-4 div.sk-toggleable__content pre {margin: 0.2em;color: black;border-radius: 0.25em;background-color: #f0f8ff;}#sk-container-id-4 input.sk-toggleable__control:checked~div.sk-toggleable__content {max-height: 200px;max-width: 100%;overflow: auto;}#sk-container-id-4 input.sk-toggleable__control:checked~label.sk-toggleable__label-arrow:before {content: \"▾\";}#sk-container-id-4 div.sk-estimator input.sk-toggleable__control:checked~label.sk-toggleable__label {background-color: #d4ebff;}#sk-container-id-4 div.sk-label input.sk-toggleable__control:checked~label.sk-toggleable__label {background-color: #d4ebff;}#sk-container-id-4 input.sk-hidden--visually {border: 0;clip: rect(1px 1px 1px 1px);clip: rect(1px, 1px, 1px, 1px);height: 1px;margin: -1px;overflow: hidden;padding: 0;position: absolute;width: 1px;}#sk-container-id-4 div.sk-estimator {font-family: monospace;background-color: #f0f8ff;border: 1px dotted black;border-radius: 0.25em;box-sizing: border-box;margin-bottom: 0.5em;}#sk-container-id-4 div.sk-estimator:hover {background-color: #d4ebff;}#sk-container-id-4 div.sk-parallel-item::after {content: \"\";width: 100%;border-bottom: 1px solid gray;flex-grow: 1;}#sk-container-id-4 div.sk-label:hover label.sk-toggleable__label {background-color: #d4ebff;}#sk-container-id-4 div.sk-serial::before {content: \"\";position: absolute;border-left: 1px solid gray;box-sizing: border-box;top: 0;bottom: 0;left: 50%;z-index: 0;}#sk-container-id-4 div.sk-serial {display: flex;flex-direction: column;align-items: center;background-color: white;padding-right: 0.2em;padding-left: 0.2em;position: relative;}#sk-container-id-4 div.sk-item {position: relative;z-index: 1;}#sk-container-id-4 div.sk-parallel {display: flex;align-items: stretch;justify-content: center;background-color: white;position: relative;}#sk-container-id-4 div.sk-item::before, #sk-container-id-4 div.sk-parallel-item::before {content: \"\";position: absolute;border-left: 1px solid gray;box-sizing: border-box;top: 0;bottom: 0;left: 50%;z-index: -1;}#sk-container-id-4 div.sk-parallel-item {display: flex;flex-direction: column;z-index: 1;position: relative;background-color: white;}#sk-container-id-4 div.sk-parallel-item:first-child::after {align-self: flex-end;width: 50%;}#sk-container-id-4 div.sk-parallel-item:last-child::after {align-self: flex-start;width: 50%;}#sk-container-id-4 div.sk-parallel-item:only-child::after {width: 0;}#sk-container-id-4 div.sk-dashed-wrapped {border: 1px dashed gray;margin: 0 0.4em 0.5em 0.4em;box-sizing: border-box;padding-bottom: 0.4em;background-color: white;}#sk-container-id-4 div.sk-label label {font-family: monospace;font-weight: bold;display: inline-block;line-height: 1.2em;}#sk-container-id-4 div.sk-label-container {text-align: center;}#sk-container-id-4 div.sk-container {/* jupyter's `normalize.less` sets `[hidden] { display: none; }` but bootstrap.min.css set `[hidden] { display: none !important; }` so we also need the `!important` here to be able to override the default hidden behavior on the sphinx rendered scikit-learn.org. See: https://github.com/scikit-learn/scikit-learn/issues/21755 */display: inline-block !important;position: relative;}#sk-container-id-4 div.sk-text-repr-fallback {display: none;}</style><div id=\"sk-container-id-4\" class=\"sk-top-container\"><div class=\"sk-text-repr-fallback\"><pre>GridSearchCV(cv=3, estimator=RandomForestClassifier(n_jobs=-1, random_state=42),\n",
       "             n_jobs=-1,\n",
       "             param_grid={&#x27;bootstrap&#x27;: [True, False],\n",
       "                         &#x27;max_depth&#x27;: [10, 20, 30, 40, 50, 60, 70, 80, 90, 100,\n",
       "                                       None],\n",
       "                         &#x27;min_samples_leaf&#x27;: [1, 2, 4],\n",
       "                         &#x27;min_samples_split&#x27;: [2, 5, 10],\n",
       "                         &#x27;n_estimators&#x27;: [200, 400, 600, 800, 1000, 1200, 1400,\n",
       "                                          1600, 1800, 2000]})</pre><b>In a Jupyter environment, please rerun this cell to show the HTML representation or trust the notebook. <br />On GitHub, the HTML representation is unable to render, please try loading this page with nbviewer.org.</b></div><div class=\"sk-container\" hidden><div class=\"sk-item sk-dashed-wrapped\"><div class=\"sk-label-container\"><div class=\"sk-label sk-toggleable\"><input class=\"sk-toggleable__control sk-hidden--visually\" id=\"sk-estimator-id-8\" type=\"checkbox\" ><label for=\"sk-estimator-id-8\" class=\"sk-toggleable__label sk-toggleable__label-arrow\">GridSearchCV</label><div class=\"sk-toggleable__content\"><pre>GridSearchCV(cv=3, estimator=RandomForestClassifier(n_jobs=-1, random_state=42),\n",
       "             n_jobs=-1,\n",
       "             param_grid={&#x27;bootstrap&#x27;: [True, False],\n",
       "                         &#x27;max_depth&#x27;: [10, 20, 30, 40, 50, 60, 70, 80, 90, 100,\n",
       "                                       None],\n",
       "                         &#x27;min_samples_leaf&#x27;: [1, 2, 4],\n",
       "                         &#x27;min_samples_split&#x27;: [2, 5, 10],\n",
       "                         &#x27;n_estimators&#x27;: [200, 400, 600, 800, 1000, 1200, 1400,\n",
       "                                          1600, 1800, 2000]})</pre></div></div></div><div class=\"sk-parallel\"><div class=\"sk-parallel-item\"><div class=\"sk-item\"><div class=\"sk-label-container\"><div class=\"sk-label sk-toggleable\"><input class=\"sk-toggleable__control sk-hidden--visually\" id=\"sk-estimator-id-9\" type=\"checkbox\" ><label for=\"sk-estimator-id-9\" class=\"sk-toggleable__label sk-toggleable__label-arrow\">estimator: RandomForestClassifier</label><div class=\"sk-toggleable__content\"><pre>RandomForestClassifier(n_jobs=-1, random_state=42)</pre></div></div></div><div class=\"sk-serial\"><div class=\"sk-item\"><div class=\"sk-estimator sk-toggleable\"><input class=\"sk-toggleable__control sk-hidden--visually\" id=\"sk-estimator-id-10\" type=\"checkbox\" ><label for=\"sk-estimator-id-10\" class=\"sk-toggleable__label sk-toggleable__label-arrow\">RandomForestClassifier</label><div class=\"sk-toggleable__content\"><pre>RandomForestClassifier(n_jobs=-1, random_state=42)</pre></div></div></div></div></div></div></div></div></div></div>"
      ],
      "text/plain": [
       "GridSearchCV(cv=3, estimator=RandomForestClassifier(n_jobs=-1, random_state=42),\n",
       "             n_jobs=-1,\n",
       "             param_grid={'bootstrap': [True, False],\n",
       "                         'max_depth': [10, 20, 30, 40, 50, 60, 70, 80, 90, 100,\n",
       "                                       None],\n",
       "                         'min_samples_leaf': [1, 2, 4],\n",
       "                         'min_samples_split': [2, 5, 10],\n",
       "                         'n_estimators': [200, 400, 600, 800, 1000, 1200, 1400,\n",
       "                                          1600, 1800, 2000]})"
      ]
     },
     "execution_count": 34,
     "metadata": {},
     "output_type": "execute_result"
    }
   ],
   "source": [
    "params = {\n",
    "    'bootstrap': [True, False],\n",
    "    'max_depth': [10, 20, 30, 40, 50, 60, 70, 80, 90, 100, None],\n",
    "    'min_samples_leaf': [1, 2, 4],\n",
    "    'min_samples_split': [2, 5, 10],\n",
    "    'n_estimators': [200, 400, 600, 800, 1000, 1200, 1400, 1600, 1800, 2000]\n",
    "}\n",
    "\n",
    "grid_small = GridSearchCV(forest, params, cv=3, n_jobs=-1)\n",
    "\n",
    "grid_small.fit(new_X_train, y_train)"
   ]
  },
  {
   "cell_type": "code",
   "execution_count": 35,
   "id": "55c9846c",
   "metadata": {},
   "outputs": [
    {
     "name": "stdout",
     "output_type": "stream",
     "text": [
      "              precision    recall  f1-score   support\n",
      "\n",
      "           1       0.92      1.00      0.96        12\n",
      "           2       1.00      1.00      1.00         2\n",
      "           3       0.00      0.00      0.00         1\n",
      "           4       1.00      1.00      1.00         2\n",
      "           6       1.00      1.00      1.00         3\n",
      "           7       1.00      1.00      1.00         1\n",
      "\n",
      "    accuracy                           0.95        21\n",
      "   macro avg       0.82      0.83      0.83        21\n",
      "weighted avg       0.91      0.95      0.93        21\n",
      "\n"
     ]
    }
   ],
   "source": [
    "grid_pred = grid_small.predict(new_X_test)\n",
    "print(classification_report(y_test, grid_pred))"
   ]
  },
  {
   "cell_type": "markdown",
   "id": "12b7f0ba",
   "metadata": {},
   "source": [
    "- Como podemos ver, o modelo com o conjunto mínimo de features teve um desempenho de **acc = 0.95**,  e já que **0.9 * 0.95 = 0.855 <= acc**, conseguimos atingir uma acurácia que representa 90% da acurácia do modelo com o conjunto completo de features."
   ]
  },
  {
   "cell_type": "code",
   "execution_count": 36,
   "id": "8d1464a4",
   "metadata": {},
   "outputs": [
    {
     "data": {
      "image/png": "[encoded data removed]",
      "text/plain": [
       "<Figure size 1000x700 with 2 Axes>"
      ]
     },
     "metadata": {},
     "output_type": "display_data"
    }
   ],
   "source": [
    "confusion_mtx = confusion_matrix(\n",
    "    y_test,\n",
    "    grid_pred,\n",
    "    labels=np.arange(0, 7),\n",
    "    normalize=\"true\",\n",
    ")\n",
    "plt.figure(figsize=(10, 7))\n",
    "sns.heatmap(confusion_mtx/np.sum(confusion_mtx), annot=True, fmt='.2%')\n",
    "plt.show()"
   ]
  },
  {
   "cell_type": "code",
   "execution_count": null,
   "id": "11de679f",
   "metadata": {},
   "outputs": [],
   "source": []
  }
 ],
 "metadata": {
  "kernelspec": {
   "display_name": "Python 3.10.5 ('ml-env')",
   "language": "python",
   "name": "python3"
  },
  "language_info": {
   "codemirror_mode": {
    "name": "ipython",
    "version": 3
   },
   "file_extension": ".py",
   "mimetype": "text/x-python",
   "name": "python",
   "nbconvert_exporter": "python",
   "pygments_lexer": "ipython3",
   "version": "3.10.5"
  },
  "vscode": {
   "interpreter": {
    "hash": "74c44d814f071adc8ef4b06fa7a2ab9f8dd1aa4ff903641fb260660112d1d909"
   }
  }
 },
 "nbformat": 4,
 "nbformat_minor": 5
}
